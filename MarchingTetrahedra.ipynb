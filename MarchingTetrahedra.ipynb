{
 "cells": [
  {
   "cell_type": "markdown",
   "id": "30843e38",
   "metadata": {},
   "source": [
    "# Marching Tetrahedra\n",
    "https://michelanders.blogspot.com/2012/02/marching-tetrahedrons-in-python.html"
   ]
  },
  {
   "cell_type": "markdown",
   "id": "b2a7cd89",
   "metadata": {},
   "source": [
    "### Classes:"
   ]
  },
  {
   "cell_type": "code",
   "execution_count": 1,
   "id": "34f59f80",
   "metadata": {},
   "outputs": [],
   "source": [
    "class Vector:  # struct XYZ\n",
    "\tdef __init__(self, x, y, z):\n",
    "\t\tself.x = x\n",
    "\t\tself.y = y\n",
    "\t\tself.z = z\n",
    "\t\n",
    "\tdef __str__(self):\n",
    "\t\treturn str(self.x) + \" \" + str(self.y) + \" \" + str(self.z)\n",
    "\n",
    "\n",
    "class Gridcell:  # struct GRIDCELL\n",
    "\tdef __init__(self, p, n, val):\n",
    "\t\tself.p = p  # p=[8]\n",
    "\t\tself.n = n  # n=[8]\n",
    "\t\tself.val = val  # val=[8]\n",
    "\n",
    "\n",
    "class Triangle:  # struct TRIANGLE\n",
    "\tdef __init__(self, p1, p2, p3):\n",
    "\t\tself.p = [p1, p2, p3]  # vertices\n",
    "\t\n",
    "\t# return triangle as an ascii STL facet\n",
    "\tdef __str__(self):\n",
    "\t\treturn \"\"\"\n",
    "facet normal 0 0 0\n",
    "outer loop \n",
    "    vertex %s \n",
    "    vertex %s \n",
    "    vertex %s \n",
    "endloop \n",
    "endfacet\n",
    "\"\"\" % (self.p[0], self.p[1], self.p[2])\n",
    "\n",
    "# return a 3d list of values\n",
    "\n"
   ]
  },
  {
   "cell_type": "markdown",
   "id": "fa619da7",
   "metadata": {},
   "source": [
    "### Cases\n",
    "Different cases that can occure with the tetrahedra's."
   ]
  },
  {
   "cell_type": "code",
   "execution_count": 2,
   "id": "949f24ae",
   "metadata": {},
   "outputs": [],
   "source": [
    "\n",
    "def t000F(g, iso, v0, v1, v2, v3):\n",
    "\treturn []\n",
    "\n",
    "\n",
    "def t0E01(g, iso, v0, v1, v2, v3):\n",
    "\treturn [Triangle(\n",
    "\t\tVertexInterp(iso, g.p[v0], g.p[v1], g.val[v0], g.val[v1]),\n",
    "\t\tVertexInterp(iso, g.p[v0], g.p[v2], g.val[v0], g.val[v2]),\n",
    "\t\tVertexInterp(iso, g.p[v0], g.p[v3], g.val[v0], g.val[v3]))\n",
    "\t]\n",
    "\n",
    "\n",
    "def t0D02(g, iso, v0, v1, v2, v3):\n",
    "\treturn [Triangle(\n",
    "\t\tVertexInterp(iso, g.p[v1], g.p[v0], g.val[v1], g.val[v0]),\n",
    "\t\tVertexInterp(iso, g.p[v1], g.p[v3], g.val[v1], g.val[v3]),\n",
    "\t\tVertexInterp(iso, g.p[v1], g.p[v2], g.val[v1], g.val[v2]))\n",
    "\t]\n",
    "\n",
    "\n",
    "def t0C03(g, iso, v0, v1, v2, v3):\n",
    "\ttri = Triangle(\n",
    "\t\tVertexInterp(iso, g.p[v0], g.p[v3], g.val[v0], g.val[v3]),\n",
    "\t\tVertexInterp(iso, g.p[v0], g.p[v2], g.val[v0], g.val[v2]),\n",
    "\t\tVertexInterp(iso, g.p[v1], g.p[v3], g.val[v1], g.val[v3]))\n",
    "\treturn [tri, Triangle(\n",
    "\t\ttri.p[2],\n",
    "\t\tVertexInterp(iso, g.p[v1], g.p[v2], g.val[v1], g.val[v2]),\n",
    "\t\ttri.p[1])\n",
    "\t        ]\n",
    "\n",
    "\n",
    "def t0B04(g, iso, v0, v1, v2, v3):\n",
    "\treturn [Triangle(\n",
    "\t\tVertexInterp(iso, g.p[v2], g.p[v0], g.val[v2], g.val[v0]),\n",
    "\t\tVertexInterp(iso, g.p[v2], g.p[v1], g.val[v2], g.val[v1]),\n",
    "\t\tVertexInterp(iso, g.p[v2], g.p[v3], g.val[v2], g.val[v3]))\n",
    "\t]\n",
    "\n",
    "\n",
    "def t0A05(g, iso, v0, v1, v2, v3):\n",
    "\ttri = Triangle(\n",
    "\t\tVertexInterp(iso, g.p[v0], g.p[v1], g.val[v0], g.val[v1]),\n",
    "\t\tVertexInterp(iso, g.p[v2], g.p[v3], g.val[v2], g.val[v3]),\n",
    "\t\tVertexInterp(iso, g.p[v0], g.p[v3], g.val[v0], g.val[v3]))\n",
    "\treturn [tri, Triangle(\n",
    "\t\ttri.p[0],\n",
    "\t\tVertexInterp(iso, g.p[v1], g.p[v2], g.val[v1], g.val[v2]),\n",
    "\t\ttri.p[1])\n",
    "\t        ]\n",
    "\n",
    "\n",
    "def t0906(g, iso, v0, v1, v2, v3):\n",
    "\ttri = Triangle(\n",
    "\t\tVertexInterp(iso, g.p[v0], g.p[v1], g.val[v0], g.val[v1]),\n",
    "\t\tVertexInterp(iso, g.p[v1], g.p[v3], g.val[v1], g.val[v3]),\n",
    "\t\tVertexInterp(iso, g.p[v2], g.p[v3], g.val[v2], g.val[v3]))\n",
    "\treturn [tri,\n",
    "\t        Triangle(\n",
    "\t\t        tri.p[0],\n",
    "\t\t        VertexInterp(iso, g.p[v0], g.p[v2], g.val[v0], g.val[v2]),\n",
    "\t\t        tri.p[2])\n",
    "\t        ]\n",
    "\n",
    "\n",
    "def t0708(g, iso, v0, v1, v2, v3):\n",
    "\treturn [Triangle(\n",
    "\t\tVertexInterp(iso, g.p[v3], g.p[v0], g.val[v3], g.val[v0]),\n",
    "\t\tVertexInterp(iso, g.p[v3], g.p[v2], g.val[v3], g.val[v2]),\n",
    "\t\tVertexInterp(iso, g.p[v3], g.p[v1], g.val[v3], g.val[v1]))\n",
    "\t]\n",
    "\n",
    "trianglefs = {7: t0708, 8: t0708, 9: t0906, 6: t0906, 10: t0A05, 5: t0A05, 11: t0B04, 4: t0B04, 12: t0C03, 3: t0C03, 13: t0D02, 2: t0D02, 14: t0E01, 1: t0E01, 0: t000F, 15: t000F}\n",
    "\n",
    "\n",
    "def PolygoniseTri(g, iso, v0, v1, v2, v3):\n",
    "\ttriangles = []\n",
    "\t\n",
    "\t#   Determine which of the 16 cases we have given which vertices\n",
    "\t#   are above or below the isosurface\n",
    "\t\n",
    "\ttriindex = 0;\n",
    "\tif g.val[v0] < iso: triindex |= 1\n",
    "\tif g.val[v1] < iso: triindex |= 2\n",
    "\tif g.val[v2] < iso: triindex |= 4\n",
    "\tif g.val[v3] < iso: triindex |= 8\n",
    "\t\n",
    "\treturn trianglefs[triindex](g, iso, v0, v1, v2, v3)\n",
    "\n",
    "\n",
    "def VertexInterp(isolevel, p1, p2, valp1, valp2):\n",
    "\tif abs(isolevel - valp1) < 0.00001:\n",
    "\t\treturn (p1);\n",
    "\tif abs(isolevel - valp2) < 0.00001:\n",
    "\t\treturn (p2);\n",
    "\tif abs(valp1 - valp2) < 0.00001:\n",
    "\t\treturn (p1);\n",
    "\tmu = (isolevel - valp1) / (valp2 - valp1)\n",
    "\treturn Vector(p1.x + mu * (p2.x - p1.x), p1.y + mu * (p2.y - p1.y), p1.z + mu * (p2.z - p1.z))\n"
   ]
  },
  {
   "cell_type": "markdown",
   "id": "3666c48e",
   "metadata": {},
   "source": [
    "### Support Functions"
   ]
  },
  {
   "cell_type": "code",
   "execution_count": 3,
   "id": "b2871476",
   "metadata": {},
   "outputs": [],
   "source": [
    "\n",
    "def readdata(f=lambda x, y, z: x * x + y * y + z * z, size=5.0, steps=11):\n",
    "    \"\"\" \n",
    "    Size is how big volume is?\n",
    "    Steps is multiplier \n",
    "    \"\"\"\n",
    "\tm = int(steps / 2)\n",
    "\tki = []\n",
    "\tfor i in range(steps):\n",
    "\t\tkj = []\n",
    "\t\tfor j in range(steps):\n",
    "\t\t\tkd = []\n",
    "\t\t\tfor k in range(steps):\n",
    "\t\t\t\tkd.append(f(size * (i - m) / m, size * (j - m) / m, size * (k - m) / m))\n",
    "\t\t\tkj.append(kd)\n",
    "\t\tki.append(kj)\n",
    "\treturn ki\n",
    "\n",
    "from math import cos, exp, atan2\n",
    "\n",
    "def export_triangles(triangles,output_name=\"output\"):  # stl format\n",
    "\twith open(output_name+\".stl\", \"w+\") as f:\n",
    "\t\tf.write(\"solid points\\n\")\n",
    "\t\tfor tri in triangles:\n",
    "\t\t\tf.write(tri.__str__())\n",
    "\t\tf.write(\"endsolid points\")\n",
    "    \n"
   ]
  },
  {
   "cell_type": "markdown",
   "id": "943a5d24",
   "metadata": {},
   "source": [
    "### Load the data"
   ]
  },
  {
   "cell_type": "code",
   "execution_count": 9,
   "id": "82eb50c8",
   "metadata": {
    "ExecuteTime": {
     "end_time": "2021-08-27T11:15:23.526753Z",
     "start_time": "2021-08-27T11:15:21.667137Z"
    }
   },
   "outputs": [
    {
     "name": "stdout",
     "output_type": "stream",
     "text": [
      "The label and image shapes are the same its (512, 512, 123)\n",
      "\n",
      "The volume is in label4\n"
     ]
    }
   ],
   "source": [
    "# Load data\n",
    "import nibabel\n",
    "from loadnii import segment_labels\n",
    "\n",
    "volume_file_path = \"data/ctscan1/volume-3.nii.gz\"\n",
    "label_file_path = \"data/ctscan1/labels-3.nii.gz\"\n",
    "\n",
    "labels = {\"liver\":1, \"bladder\":2, \"lungs\":3, \"kidneys\":4,\"bones\":5, \"brain\":6}\n",
    "\n",
    "target_label = labels[\"bones\"]\n",
    "minlabel = target_label - .1\n",
    "maxlabel = target_label + .1\n",
    "\n",
    "new_image = segment_labels(volume_file_path, label_file_path, minlabel, maxlabel)\n",
    "segmented_label_data = new_image.get_fdata()\n",
    "print(f\"Loaded volume of shape: {segmented_label_data.shape} Seperation value was: {minlabel} - {maxlabel}\")\n"
   ]
  },
  {
   "cell_type": "markdown",
   "id": "f5cfdd36",
   "metadata": {},
   "source": [
    "### Iso Functions\n",
    "These are functions that are called on each voxel. The return value is matched with the isovalue. "
   ]
  },
  {
   "cell_type": "code",
   "execution_count": 23,
   "id": "f9d45ac1",
   "metadata": {},
   "outputs": [],
   "source": [
    "\n",
    "def lobes(x, y, z):\n",
    "    try:\n",
    "        theta = atan2(x, y)  # sin t = o\n",
    "    except:\n",
    "        theta = 0\n",
    "    try:\n",
    "        phi = atan2(z, y)\n",
    "    except:\n",
    "        phi = 0\n",
    "    r = x * x + y * y + z * z\n",
    "    ct = cos(theta)\n",
    "    cp = cos(phi)\n",
    "    res = ct * ct * cp * cp * exp(-r / 10)\n",
    "    return res\n",
    "\n",
    "def f(x,y,z):\n",
    "    x, y, z = int(x), int(y), int(z)\n",
    "    print(x,y,z)\n",
    "    try:\n",
    "        return label4[x][y][z]\n",
    "    except Exception as e:\n",
    "        print(e)\n",
    "        return 0"
   ]
  },
  {
   "cell_type": "markdown",
   "id": "a1359b22",
   "metadata": {},
   "source": [
    "**Main code:**"
   ]
  },
  {
   "cell_type": "code",
   "execution_count": 34,
   "id": "0f8515a0",
   "metadata": {},
   "outputs": [
    {
     "name": "stdout",
     "output_type": "stream",
     "text": [
      "i:0 t:0, i:1 t:0, i:2 t:0, i:3 t:0, i:4 t:0, i:5 t:0, i:6 t:36, i:7 t:202, i:8 t:424, i:9 t:702, i:10 t:1094, i:11 t:1576, i:12 t:2196, i:13 t:2936, i:14 t:3756, i:15 t:4808, i:16 t:6046, i:17 t:7408, i:18 t:8872, i:19 t:10476, i:20 t:12130, i:21 t:13788, i:22 t:15506, i:23 t:17216, i:24 t:19018, i:25 t:20768, i:26 t:22716, i:27 t:25050, i:28 t:27716, i:29 t:30570, i:30 t:33578, i:31 t:36746, i:32 t:39964, i:33 t:43376, i:34 t:46788, i:35 t:50296, i:36 t:54028, i:37 t:57906, i:38 t:61908, i:39 t:65926, i:40 t:69960, i:41 t:74094, i:42 t:78360, i:43 t:82698, i:44 t:87416, i:45 t:92528, i:46 t:97872, i:47 t:103214, i:48 t:108730, i:49 t:114488, i:50 t:120962, i:51 t:127692, i:52 t:134490, i:53 t:141476, i:54 t:148404, i:55 t:155654, i:56 t:163356, i:57 t:171356, i:58 t:179660, i:59 t:188354, i:60 t:197166, i:61 t:205924, i:62 t:214738, i:63 t:223396, i:64 t:232330, i:65 t:241576, i:66 t:251064, i:67 t:260454, i:68 t:269720, i:69 t:279176, i:70 t:289122, i:71 t:299542, i:72 t:310168, i:73 t:320990, i:74 t:331876, i:75 t:342778, i:76 t:353924, i:77 t:365094, i:78 t:375892, i:79 t:386672, i:80 t:397980, i:81 t:409474, i:82 t:420828, i:83 t:431740, i:84 t:442772, i:85 t:454094, i:86 t:465490, i:87 t:477016, i:88 t:488860, i:89 t:500184, i:90 t:511254, i:91 t:522178, i:92 t:533112, i:93 t:543676, i:94 t:553700, i:95 t:563452, i:96 t:572724, i:97 t:581758, i:98 t:590696, i:99 t:599542, i:100 t:608160, i:101 t:617234, i:102 t:626334, i:103 t:635520, i:104 t:644852, i:105 t:653830, i:106 t:662682, i:107 t:671594, i:108 t:680514, i:109 t:689326, i:110 t:698188, i:111 t:707162, i:112 t:716162, i:113 t:725266, i:114 t:734310, i:115 t:743176, i:116 t:752036, i:117 t:760890, i:118 t:769596, i:119 t:778272, i:120 t:786918, i:121 t:795556, i:122 t:804374, i:123 t:813222, i:124 t:821878, i:125 t:830616, i:126 t:839306, i:127 t:848146, i:128 t:857032, i:129 t:866144, i:130 t:875322, i:131 t:884688, i:132 t:894048, i:133 t:903596, i:134 t:913138, i:135 t:922944, i:136 t:932810, i:137 t:942694, i:138 t:952522, i:139 t:962292, i:140 t:972436, i:141 t:982670, i:142 t:992944, i:143 t:1003572, i:144 t:1014150, i:145 t:1024766, i:146 t:1035396, i:147 t:1045980, i:148 t:1056634, i:149 t:1067256, i:150 t:1077948, i:151 t:1088596, i:152 t:1099324, i:153 t:1110332, i:154 t:1121408, i:155 t:1132574, i:156 t:1143272, i:157 t:1153904, i:158 t:1164046, i:159 t:1173834, i:160 t:1183236, i:161 t:1192148, i:162 t:1201056, i:163 t:1209738, i:164 t:1218112, i:165 t:1226346, i:166 t:1234452, i:167 t:1242548, i:168 t:1250666, i:169 t:1258838, i:170 t:1266964, i:171 t:1275012, i:172 t:1283004, i:173 t:1290932, i:174 t:1299034, i:175 t:1307180, i:176 t:1315450, i:177 t:1323622, i:178 t:1331812, i:179 t:1340094, i:180 t:1348546, i:181 t:1356912, i:182 t:1364780, i:183 t:1372460, i:184 t:1380112, i:185 t:1387794, i:186 t:1395224, i:187 t:1402938, i:188 t:1410726, i:189 t:1418522, i:190 t:1426334, i:191 t:1433874, i:192 t:1441304, i:193 t:1448396, i:194 t:1455394, i:195 t:1462170, i:196 t:1468928, i:197 t:1475616, i:198 t:1482386, i:199 t:1489250, i:200 t:1496052, i:201 t:1502934, i:202 t:1509896, i:203 t:1516926, i:204 t:1524084, i:205 t:1531132, i:206 t:1538106, i:207 t:1544992, i:208 t:1551770, i:209 t:1558602, i:210 t:1565866, i:211 t:1573180, i:212 t:1580772, i:213 t:1589210, i:214 t:1598012, i:215 t:1607226, i:216 t:1616856, i:217 t:1626690, i:218 t:1636128, i:219 t:1645678, i:220 t:1655118, i:221 t:1664626, i:222 t:1674508, i:223 t:1685068, i:224 t:1695794, i:225 t:1706872, i:226 t:1718278, i:227 t:1729682, i:228 t:1740802, i:229 t:1751870, i:230 t:1762768, i:231 t:1773536, i:232 t:1784290, i:233 t:1795496, i:234 t:1806602, i:235 t:1818424, i:236 t:1830102, i:237 t:1841604, i:238 t:1852998, i:239 t:1864284, i:240 t:1875852, i:241 t:1887166, i:242 t:1898480, i:243 t:1909460, i:244 t:1920130, i:245 t:1931034, i:246 t:1941902, i:247 t:1952702, i:248 t:1963736, i:249 t:1974784, i:250 t:1985618, i:251 t:1996250, i:252 t:2006568, i:253 t:2016660, i:254 t:2026996, i:255 t:2037284, i:256 t:2047340, i:257 t:2057912, i:258 t:2069080, i:259 t:2080568, i:260 t:2092038, i:261 t:2103838, i:262 t:2116060, i:263 t:2128174, i:264 t:2140590, i:265 t:2153838, i:266 t:2168110, i:267 t:2183016, i:268 t:2197516, i:269 t:2211210, i:270 t:2224658, i:271 t:2238576, i:272 t:2252362, i:273 t:2266046, i:274 t:2279084, i:275 t:2291298, i:276 t:2303198, i:277 t:2316136, i:278 t:2329352, i:279 t:2341840, i:280 t:2353578, i:281 t:2365240, i:282 t:2376842, i:283 t:2387666, i:284 t:2398304, i:285 t:2408782, i:286 t:2419214, i:287 t:2429978, i:288 t:2440682, i:289 t:2451658, i:290 t:2462440, i:291 t:2473884, i:292 t:2485654, i:293 t:2497336, i:294 t:2509052, i:295 t:2520624, i:296 t:2533450, i:297 t:2545242, i:298 t:2556488, i:299 t:2566654, i:300 t:2575764, i:301 t:2584612, i:302 t:2593794, i:303 t:2603344, i:304 t:2613050, i:305 t:2622988, i:306 t:2632932, i:307 t:2642912, i:308 t:2652898, i:309 t:2662520, i:310 t:2671906, i:311 t:2681184, i:312 t:2690328, i:313 t:2699228, i:314 t:2707790, i:315 t:2716342, i:316 t:2724678, i:317 t:2733152, i:318 t:2741532, i:319 t:2749812, i:320 t:2758118, i:321 t:2766522, i:322 t:2774946, i:323 t:2783500, i:324 t:2792062, i:325 t:2800724, i:326 t:2809270, i:327 t:2817848, i:328 t:2826424, i:329 t:2834904, i:330 t:2843256, i:331 t:2851730, i:332 t:2860106, i:333 t:2868436, i:334 t:2877276, i:335 t:2886470, i:336 t:2895728, i:337 t:2905190, i:338 t:2914694, i:339 t:2924402, i:340 t:2934500, i:341 t:2944808, i:342 t:2955148, i:343 t:2966090, i:344 t:2976966, i:345 t:2987646, i:346 t:2998338, i:347 t:3009156, i:348 t:3019930, i:349 t:3030670, i:350 t:3041378, i:351 t:3052118, i:352 t:3062830, i:353 t:3073538, i:354 t:3084740, i:355 t:3095530, i:356 t:3106208, i:357 t:3117150, i:358 t:3127872, i:359 t:3138600, i:360 t:3149142, i:361 t:3159560, i:362 t:3169766, i:363 t:3179934, i:364 t:3190168, i:365 t:3200228, i:366 t:3210216, i:367 t:3220328, i:368 t:3230412, i:369 t:3240576, i:370 t:3250744, i:371 t:3260998, i:372 t:3271000, i:373 t:3280704, i:374 t:3290112, i:375 t:3299406, i:376 t:3308690, i:377 t:3317722, i:378 t:3326584, i:379 t:3335636, i:380 t:3344162, i:381 t:3352476, i:382 t:3360660, i:383 t:3368708, i:384 t:3376548, i:385 t:3384276, i:386 t:3391798, i:387 t:3399202, i:388 t:3406686, i:389 t:3414242, i:390 t:3421656, i:391 t:3429120, i:392 t:3436554, i:393 t:3444042, i:394 t:3451598, i:395 t:3459364, i:396 t:3467344, i:397 t:3475312, i:398 t:3483178, i:399 t:3490986, i:400 t:3498732, i:401 t:3506412, i:402 t:3514134, i:403 t:3522040, i:404 t:3530336, i:405 t:3538886, i:406 t:3547602, i:407 t:3556638, i:408 t:3565700, i:409 t:3574614, i:410 t:3583550, i:411 t:3592414, i:412 t:3601290, i:413 t:3610074, i:414 t:3618746, i:415 t:3627522, i:416 t:3636396, i:417 t:3645166, i:418 t:3654198, i:419 t:3663404, i:420 t:3672512, i:421 t:3681380, i:422 t:3689988, i:423 t:3698686, i:424 t:3707508, i:425 t:3716278, i:426 t:3725322, i:427 t:3734954, i:428 t:3744914, i:429 t:3754672, i:430 t:3764466, i:431 t:3774488, i:432 t:3784724, i:433 t:3795142, i:434 t:3805450, i:435 t:3815864, i:436 t:3826418, i:437 t:3837150, i:438 t:3847770, i:439 t:3858690, i:440 t:3869986, i:441 t:3881276, i:442 t:3892640, i:443 t:3904178, i:444 t:3916292, i:445 t:3928684, i:446 t:3941460, i:447 t:3954452, i:448 t:3967646, i:449 t:3981088, i:450 t:3994650, i:451 t:4008308, i:452 t:4022328, i:453 t:4036016, i:454 t:4050086, i:455 t:4064070, i:456 t:4077398, i:457 t:4090432, i:458 t:4103814, i:459 t:4117066, i:460 t:4130450, i:461 t:4143970, i:462 t:4156192, i:463 t:4167384, i:464 t:4177744, i:465 t:4187376, i:466 t:4195832, i:467 t:4202938, i:468 t:4209230, i:469 t:4214646, i:470 t:4219790, i:471 t:4224416, i:472 t:4228980, i:473 t:4233356, i:474 t:4237608, i:475 t:4241630, i:476 t:4245368, i:477 t:4248712, i:478 t:4251622, i:479 t:4254016, i:480 t:4255910, i:481 t:4257824, i:482 t:4259914, i:483 t:4261774, i:484 t:4263456, i:485 t:4265058, i:486 t:4266570, i:487 t:4268050, i:488 t:4269432, i:489 t:4270746, i:490 t:4272076, i:491 t:4273354, i:492 t:4274650, i:493 t:4275896, i:494 t:4277086, i:495 t:4278252, i:496 t:4279410, i:497 t:4280450, i:498 t:4281454, i:499 t:4282354, i:500 t:4283262, i:501 t:4283930, i:502 t:4284356, "
     ]
    },
    {
     "name": "stdout",
     "output_type": "stream",
     "text": [
      "i:503 t:4284750, i:504 t:4285076, i:505 t:4285342, i:506 t:4285426, i:507 t:4285506, i:508 t:4285578, i:509 t:4285634, i:510 t:4285646, Found 4285646 triangles\n",
      "Exported 2balls\n"
     ]
    }
   ],
   "source": [
    "# data = readdata(lobes,1,11)\n",
    "# isolevel = 0.1\n",
    "\n",
    "# data = readdata(f,100,-50)\n",
    "isolevel = 3\n",
    "data = segmented_label_data\n",
    "\n",
    "# print(data)\n",
    "\n",
    "triangles = []\n",
    "for i in range(len(data) - 1):\n",
    "    print(f\"i:{i} t:{len(triangles)}\",end=\", \")\n",
    "    for j in range(len(data[i]) - 1):\n",
    "        for k in range(len(data[i][j]) - 1):\n",
    "            p = [None] * 8\n",
    "            val = [None] * 8\n",
    "\n",
    "            p[0] = Vector(i, j, k)\n",
    "            val[0] = data[i][j][k]\n",
    "            p[1] = Vector(i + 1, j, k)\n",
    "            val[1] = data[i + 1][j][k]\n",
    "            p[2] = Vector(i + 1, j + 1, k)\n",
    "            val[2] = data[i + 1][j + 1][k]\n",
    "            p[3] = Vector(i, j + 1, k)\n",
    "            val[3] = data[i][j + 1][k]\n",
    "            p[4] = Vector(i, j, k + 1)\n",
    "            val[4] = data[i][j][k + 1]\n",
    "            p[5] = Vector(i + 1, j, k + 1)\n",
    "            val[5] = data[i + 1][j][k + 1]\n",
    "            p[6] = Vector(i + 1, j + 1, k + 1)\n",
    "            val[6] = data[i + 1][j + 1][k + 1]\n",
    "            p[7] = Vector(i, j + 1, k + 1)\n",
    "            val[7] = data[i][j + 1][k + 1]\n",
    "            grid = Gridcell(p, [], val)\n",
    "            triangles.extend(PolygoniseTri(grid, isolevel, 0, 2, 3, 7))\n",
    "            triangles.extend(PolygoniseTri(grid, isolevel, 0, 2, 6, 7))\n",
    "            triangles.extend(PolygoniseTri(grid, isolevel, 0, 4, 6, 7))\n",
    "            triangles.extend(PolygoniseTri(grid, isolevel, 0, 6, 1, 2))\n",
    "            triangles.extend(PolygoniseTri(grid, isolevel, 0, 6, 1, 4))\n",
    "            triangles.extend(PolygoniseTri(grid, isolevel, 5, 6, 1, 4))\n",
    "\n",
    "print(f\"Found {len(triangles)} triangles\")\n",
    "output = \"nicebones\"\n",
    "export_triangles(triangles, output)\n",
    "print(f\"Exported {output}\")"
   ]
  },
  {
   "cell_type": "markdown",
   "id": "01bca35b",
   "metadata": {},
   "source": [
    "### Optimise mesh"
   ]
  },
  {
   "cell_type": "code",
   "execution_count": 7,
   "id": "517d0aea",
   "metadata": {
    "ExecuteTime": {
     "end_time": "2021-08-27T11:04:54.887257Z",
     "start_time": "2021-08-27T11:04:42.577898Z"
    }
   },
   "outputs": [],
   "source": [
    "import pymesh\n",
    "from cleanmesh import cleanup_mesh\n",
    "mesh = pymesh.meshio.load_mesh(\"big2balls.stl\")"
   ]
  },
  {
   "cell_type": "code",
   "execution_count": 6,
   "id": "97284f59",
   "metadata": {
    "ExecuteTime": {
     "end_time": "2021-08-27T10:54:23.584951Z",
     "start_time": "2021-08-27T10:52:53.744825Z"
    }
   },
   "outputs": [
    {
     "name": "stdout",
     "output_type": "stream",
     "text": [
      "Removing duplicated triangles... removed 4088640\n",
      "Removing obtuse triangles... removed 324334\n",
      "Removing degenerative triangles... removed 4737249\n",
      "Removing unused vertices... removed 0 lines\n",
      "Removing duplicated vertices... removed 0\n"
     ]
    }
   ],
   "source": [
    "meshclean= cleanup_mesh(mesh)"
   ]
  },
  {
   "cell_type": "code",
   "execution_count": 17,
   "id": "1d4135a9",
   "metadata": {},
   "outputs": [],
   "source": [
    "pymesh.meshio.save_mesh(\"coolbonesoptimised.obj\", mesho6)"
   ]
  },
  {
   "cell_type": "code",
   "execution_count": null,
   "id": "f42ccd85",
   "metadata": {},
   "outputs": [],
   "source": []
  }
 ],
 "metadata": {
  "kernelspec": {
   "display_name": "Python 3 (ipykernel)",
   "language": "python",
   "name": "python3"
  },
  "language_info": {
   "codemirror_mode": {
    "name": "ipython",
    "version": 3
   },
   "file_extension": ".py",
   "mimetype": "text/x-python",
   "name": "python",
   "nbconvert_exporter": "python",
   "pygments_lexer": "ipython3",
   "version": "3.7.10"
  },
  "varInspector": {
   "cols": {
    "lenName": 16,
    "lenType": 16,
    "lenVar": 40
   },
   "kernels_config": {
    "python": {
     "delete_cmd_postfix": "",
     "delete_cmd_prefix": "del ",
     "library": "var_list.py",
     "varRefreshCmd": "print(var_dic_list())"
    },
    "r": {
     "delete_cmd_postfix": ") ",
     "delete_cmd_prefix": "rm(",
     "library": "var_list.r",
     "varRefreshCmd": "cat(var_dic_list()) "
    }
   },
   "types_to_exclude": [
    "module",
    "function",
    "builtin_function_or_method",
    "instance",
    "_Feature"
   ],
   "window_display": false
  }
 },
 "nbformat": 4,
 "nbformat_minor": 5
}
