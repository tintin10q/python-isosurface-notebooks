{
 "cells": [
  {
   "cell_type": "code",
   "execution_count": 3,
   "id": "3f307900",
   "metadata": {
    "ExecuteTime": {
     "end_time": "2021-08-30T10:50:44.852187Z",
     "start_time": "2021-08-30T10:50:43.362891Z"
    }
   },
   "outputs": [],
   "source": [
    "import numpy as np\n",
    "import nibabel\n",
    "from loadnii import segment_labels\n",
    "import pymesh # https://github.com/pmneila/PyMCubes\n",
    "from cleanmesh import remove_empty_volume_around_mesh\n",
    "\n",
    "from marching_tetrahedra import march_with_tetrahendras, export_triangles\n",
    "import mcubes\n"
   ]
  },
  {
   "cell_type": "markdown",
   "id": "25e755d5",
   "metadata": {},
   "source": [
    "### Load data"
   ]
  },
  {
   "cell_type": "code",
   "execution_count": 1,
   "id": "fb08c5b4",
   "metadata": {
    "ExecuteTime": {
     "end_time": "2021-08-30T10:50:38.904026Z",
     "start_time": "2021-08-30T10:50:38.900749Z"
    }
   },
   "outputs": [],
   "source": [
    "volume_file_path = \"data/ctscan1/volume-94.nii.gz\"\n",
    "label_file_path = \"data/ctscan1/labels-94.nii.gz\"\n",
    "\n",
    "isovalue = 0.8\n",
    "\n",
    "\"\"\"\n",
    "liver : 1 ,\n",
    "bladder: 2, \n",
    "lungs : 3, \n",
    "kidneys: 4,\n",
    "bones 5\n",
    "\"\"\"\n"
   ]
  },
  {
   "cell_type": "code",
   "execution_count": 8,
   "id": "8ae8fa8f",
   "metadata": {
    "ExecuteTime": {
     "end_time": "2021-08-30T11:38:31.073257Z",
     "start_time": "2021-08-30T11:38:18.339836Z"
    }
   },
   "outputs": [
    {
     "name": "stdout",
     "output_type": "stream",
     "text": [
      "Loaded bones_94 of shape: (455, 512, 917) Seperation value was: 4.8 - 5.2\n"
     ]
    }
   ],
   "source": [
    "\n",
    "label_name = \"bones_94\"\n",
    "\n",
    "label_id = 5\n",
    "\n",
    "organs = {}\n",
    "minlabel = label_id - .2\n",
    "maxlabel = label_id + .2\n",
    "\n",
    "new_image = segment_labels(volume_file_path, label_file_path, minlabel, maxlabel)\n",
    "\n",
    "organs[label_name] = segmented_label_data = new_image.get_fdata()\n",
    "organs[label_name] = remove_empty_volume_around_mesh(organs[label_name])\n",
    "    \n",
    "print(f\"Loaded {label_name} of shape: {organs[label_name].shape} Seperation value was: {minlabel} - {maxlabel}\")"
   ]
  },
  {
   "cell_type": "markdown",
   "id": "dd632e15",
   "metadata": {},
   "source": [
    "### Marching Cubes"
   ]
  },
  {
   "cell_type": "code",
   "execution_count": 9,
   "id": "f23c7732",
   "metadata": {
    "ExecuteTime": {
     "end_time": "2021-08-30T11:39:02.142311Z",
     "start_time": "2021-08-30T11:38:35.798439Z"
    }
   },
   "outputs": [
    {
     "name": "stdout",
     "output_type": "stream",
     "text": [
      "Marching trough bones_94...done! Saved as: bones_94-marching_cubes.obj\n",
      "Finished march!\n"
     ]
    }
   ],
   "source": [
    "for organ_name, organ in organs.items():\n",
    "    print(f\"Marching trough {organ_name}...\",end=\"\")\n",
    "    vertices, triangles = mcubes.marching_cubes(organ, isovalue)\n",
    "    mesh = pymesh.form_mesh(vertices, triangles)\n",
    "    pymesh.save_mesh(f\"{organ_name}-marching_cubes.obj\",mesh)\n",
    "    print(f\"done! Saved as: {organ_name}-marching_cubes.obj\")\n",
    "print(\"Finished march!\")"
   ]
  },
  {
   "cell_type": "markdown",
   "id": "a54ed610",
   "metadata": {},
   "source": [
    "### Marching tetrahendras"
   ]
  },
  {
   "cell_type": "code",
   "execution_count": 10,
   "id": "37e80c49",
   "metadata": {
    "ExecuteTime": {
     "end_time": "2021-08-30T12:15:37.273248Z",
     "start_time": "2021-08-30T11:39:13.407393Z"
    },
    "scrolled": true
   },
   "outputs": [
    {
     "name": "stdout",
     "output_type": "stream",
     "text": [
      "Marching trough bones_94...Starting with march of volume (455, 512, 917)... \n",
      "I = Current iteration number, T = Current amount of found triangles\n",
      "I:0 T:0, I:1 T:0, I:2 T:0, I:3 T:0, I:4 T:0, I:5 T:0, I:6 T:0, I:7 T:0, I:8 T:0, I:9 T:0, I:10 T:0, \n",
      "I:11 T:0, I:12 T:0, I:13 T:0, I:14 T:0, I:15 T:0, \n",
      "I:16 T:0, I:17 T:0, I:18 T:0, I:19 T:0, I:20 T:0, \n",
      "I:21 T:0, I:22 T:0, I:23 T:0, I:24 T:0, I:25 T:0, \n",
      "I:26 T:0, I:27 T:0, I:28 T:0, I:29 T:0, I:30 T:0, \n",
      "I:31 T:0, I:32 T:0, I:33 T:0, I:34 T:0, I:35 T:0, \n",
      "I:36 T:0, I:37 T:0, I:38 T:0, I:39 T:0, I:40 T:0, \n",
      "I:41 T:0, I:42 T:0, I:43 T:0, I:44 T:0, I:45 T:0, \n",
      "I:46 T:0, I:47 T:0, I:48 T:0, I:49 T:0, I:50 T:0, \n",
      "I:51 T:232, I:52 T:624, I:53 T:1086, I:54 T:1574, I:55 T:3522, \n",
      "I:56 T:6458, I:57 T:9668, I:58 T:12690, I:59 T:16430, I:60 T:22268, \n",
      "I:61 T:29968, I:62 T:37790, I:63 T:46286, I:64 T:54730, I:65 T:63586, \n",
      "I:66 T:74600, I:67 T:88400, I:68 T:103660, I:69 T:116872, I:70 T:131392, \n",
      "I:71 T:145928, I:72 T:159304, I:73 T:172984, I:74 T:187980, I:75 T:202574, \n",
      "I:76 T:218228, I:77 T:238032, I:78 T:258708, I:79 T:278478, I:80 T:299894, \n",
      "I:81 T:324848, I:82 T:351234, I:83 T:378170, I:84 T:407972, I:85 T:440228, \n",
      "I:86 T:470660, I:87 T:501028, I:88 T:530964, I:89 T:559518, I:90 T:588978, \n",
      "I:91 T:619018, I:92 T:651362, I:93 T:682462, I:94 T:713004, I:95 T:744230, \n",
      "I:96 T:775900, I:97 T:805764, I:98 T:834760, I:99 T:863182, I:100 T:891526, \n",
      "I:101 T:919824, I:102 T:947846, I:103 T:976250, I:104 T:1004956, I:105 T:1033174, \n",
      "I:106 T:1061954, I:107 T:1090756, I:108 T:1119248, I:109 T:1147776, I:110 T:1176424, \n",
      "I:111 T:1203762, I:112 T:1231444, I:113 T:1258414, I:114 T:1284922, I:115 T:1311108, \n",
      "I:116 T:1336346, I:117 T:1362004, I:118 T:1387952, I:119 T:1413958, I:120 T:1439988, \n",
      "I:121 T:1464280, I:122 T:1488532, I:123 T:1513344, I:124 T:1538416, I:125 T:1563754, \n",
      "I:126 T:1589804, I:127 T:1617030, I:128 T:1643732, I:129 T:1669906, I:130 T:1697564, \n",
      "I:131 T:1725028, I:132 T:1752348, I:133 T:1778646, I:134 T:1804274, I:135 T:1829058, \n",
      "I:136 T:1853698, I:137 T:1878506, I:138 T:1903104, I:139 T:1927244, I:140 T:1951296, \n",
      "I:141 T:1975750, I:142 T:2001862, I:143 T:2027516, I:144 T:2052904, I:145 T:2076420, \n",
      "I:146 T:2097366, I:147 T:2117088, I:148 T:2136130, I:149 T:2154762, I:150 T:2172982, \n",
      "I:151 T:2190514, I:152 T:2207496, I:153 T:2224416, I:154 T:2241418, I:155 T:2258354, \n",
      "I:156 T:2275186, I:157 T:2291544, I:158 T:2307732, I:159 T:2323782, I:160 T:2339640, \n",
      "I:161 T:2355270, I:162 T:2371136, I:163 T:2386978, I:164 T:2402568, I:165 T:2418260, \n",
      "I:166 T:2433708, I:167 T:2449348, I:168 T:2465428, I:169 T:2482114, I:170 T:2498644, \n",
      "I:171 T:2515204, I:172 T:2531856, I:173 T:2548906, I:174 T:2566774, I:175 T:2585902, \n",
      "I:176 T:2605704, I:177 T:2625690, I:178 T:2643314, I:179 T:2660686, I:180 T:2677270, \n",
      "I:181 T:2693104, I:182 T:2709506, I:183 T:2726128, I:184 T:2743638, I:185 T:2761492, \n",
      "I:186 T:2780222, I:187 T:2797674, I:188 T:2815208, I:189 T:2832848, I:190 T:2850362, \n",
      "I:191 T:2867774, I:192 T:2885276, I:193 T:2903372, I:194 T:2922058, I:195 T:2941150, \n",
      "I:196 T:2960752, I:197 T:2980942, I:198 T:3002422, I:199 T:3025028, I:200 T:3048344, \n",
      "I:201 T:3072330, I:202 T:3098128, I:203 T:3124684, I:204 T:3152578, I:205 T:3180366, \n",
      "I:206 T:3206104, I:207 T:3230096, I:208 T:3255302, I:209 T:3281498, I:210 T:3308762, \n",
      "I:211 T:3338404, I:212 T:3371344, I:213 T:3407756, I:214 T:3447850, I:215 T:3487424, \n",
      "I:216 T:3527798, I:217 T:3573022, I:218 T:3621100, I:219 T:3673864, I:220 T:3731274, \n",
      "I:221 T:3789362, I:222 T:3846942, I:223 T:3907016, I:224 T:3966226, I:225 T:4024368, \n",
      "I:226 T:4082860, I:227 T:4140752, I:228 T:4198468, I:229 T:4251514, I:230 T:4301262, \n",
      "I:231 T:4348244, I:232 T:4392400, I:233 T:4435212, I:234 T:4475286, I:235 T:4513112, \n",
      "I:236 T:4550026, I:237 T:4586994, I:238 T:4623310, I:239 T:4659928, I:240 T:4696930, \n",
      "I:241 T:4734160, I:242 T:4772710, I:243 T:4813094, I:244 T:4853832, I:245 T:4897808, \n",
      "I:246 T:4947560, I:247 T:4997684, I:248 T:5050700, I:249 T:5106548, I:250 T:5159390, \n",
      "I:251 T:5206138, I:252 T:5250304, I:253 T:5294852, I:254 T:5345516, I:255 T:5394474, \n",
      "I:256 T:5441720, I:257 T:5486570, I:258 T:5530210, I:259 T:5570028, I:260 T:5606920, \n",
      "I:261 T:5642806, I:262 T:5677734, I:263 T:5712476, I:264 T:5747256, I:265 T:5782836, \n",
      "I:266 T:5820110, I:267 T:5858944, I:268 T:5897630, I:269 T:5936312, I:270 T:5976744, \n",
      "I:271 T:6018324, I:272 T:6061630, I:273 T:6106402, I:274 T:6151838, I:275 T:6199446, \n",
      "I:276 T:6250074, I:277 T:6301930, I:278 T:6353732, I:279 T:6403496, I:280 T:6450920, \n",
      "I:281 T:6494846, I:282 T:6534130, I:283 T:6571168, I:284 T:6607192, I:285 T:6640538, \n",
      "I:286 T:6673186, I:287 T:6705360, I:288 T:6736322, I:289 T:6765138, I:290 T:6792496, \n",
      "I:291 T:6819338, I:292 T:6846004, I:293 T:6870584, I:294 T:6894470, I:295 T:6917778, \n",
      "I:296 T:6941264, I:297 T:6964824, I:298 T:6987742, I:299 T:7010832, I:300 T:7034392, \n",
      "I:301 T:7057742, I:302 T:7080440, I:303 T:7101630, I:304 T:7122644, I:305 T:7143074, \n",
      "I:306 T:7162626, I:307 T:7181526, I:308 T:7199996, I:309 T:7217806, I:310 T:7235748, \n",
      "I:311 T:7253276, I:312 T:7270714, I:313 T:7288034, I:314 T:7304796, I:315 T:7321398, \n",
      "I:316 T:7338484, I:317 T:7355400, I:318 T:7372268, I:319 T:7389084, I:320 T:7406214, \n",
      "I:321 T:7423694, I:322 T:7441714, I:323 T:7459998, I:324 T:7479522, I:325 T:7502068, \n",
      "I:326 T:7524934, I:327 T:7547260, I:328 T:7572614, I:329 T:7597962, I:330 T:7623496, \n",
      "I:331 T:7647314, I:332 T:7670702, I:333 T:7692242, I:334 T:7712956, I:335 T:7731858, \n",
      "I:336 T:7749946, I:337 T:7767582, I:338 T:7784936, I:339 T:7802082, I:340 T:7819256, \n",
      "I:341 T:7836656, I:342 T:7854010, I:343 T:7871112, I:344 T:7888714, I:345 T:7906514, \n",
      "I:346 T:7924396, I:347 T:7942106, I:348 T:7960070, I:349 T:7978614, I:350 T:7996804, \n",
      "I:351 T:8015482, I:352 T:8034938, I:353 T:8053982, I:354 T:8072628, I:355 T:8091560, \n",
      "I:356 T:8110450, I:357 T:8128396, I:358 T:8145782, I:359 T:8163908, I:360 T:8181800, \n",
      "I:361 T:8198968, I:362 T:8216480, I:363 T:8234076, I:364 T:8251504, I:365 T:8269048, \n",
      "I:366 T:8286756, I:367 T:8304546, I:368 T:8322632, I:369 T:8340848, I:370 T:8359110, \n",
      "I:371 T:8377934, I:372 T:8396544, I:373 T:8415516, I:374 T:8434156, I:375 T:8453166, \n",
      "I:376 T:8472540, I:377 T:8492500, I:378 T:8513384, I:379 T:8535098, I:380 T:8556626, \n",
      "I:381 T:8578124, I:382 T:8599364, I:383 T:8621432, I:384 T:8643698, I:385 T:8666258, \n",
      "I:386 T:8689980, I:387 T:8715068, I:388 T:8742082, I:389 T:8770342, I:390 T:8798880, \n",
      "I:391 T:8828090, I:392 T:8857658, I:393 T:8885610, I:394 T:8911738, I:395 T:8935850, \n",
      "I:396 T:8959826, I:397 T:8985120, I:398 T:9012196, I:399 T:9038222, I:400 T:9065898, \n",
      "I:401 T:9093174, I:402 T:9119184, I:403 T:9144712, I:404 T:9168874, I:405 T:9192034, \n",
      "I:406 T:9215860, I:407 T:9238218, I:408 T:9260888, I:409 T:9283636, I:410 T:9305242, \n",
      "I:411 T:9325212, I:412 T:9343454, I:413 T:9361582, I:414 T:9380926, I:415 T:9399828, \n",
      "I:416 T:9416742, I:417 T:9430374, I:418 T:9442910, I:419 T:9456032, I:420 T:9467822, \n",
      "I:421 T:9478444, I:422 T:9488378, I:423 T:9498118, I:424 T:9507546, I:425 T:9516890, \n",
      "I:426 T:9525930, I:427 T:9534796, I:428 T:9543600, I:429 T:9552474, I:430 T:9560146, \n",
      "I:431 T:9568648, I:432 T:9578152, I:433 T:9586234, I:434 T:9593418, I:435 T:9600288, \n",
      "I:436 T:9607262, I:437 T:9615096, I:438 T:9624144, I:439 T:9632802, I:440 T:9639588, \n",
      "I:441 T:9645102, I:442 T:9649702, I:443 T:9654058, I:444 T:9658776, I:445 T:9663208, \n",
      "I:446 T:9665472, I:447 T:9667690, I:448 T:9669644, I:449 T:9671308, I:450 T:9672792, \n",
      "I:451 T:9674266, I:452 T:9675692, I:453 T:9676868, \n",
      "Done! saved as: bones_94-marching_tetrahendras.obj\n",
      "\n",
      "Finished march!\n"
     ]
    }
   ],
   "source": [
    "verbose = True\n",
    "\n",
    "for organ_name, organ in organs.items():\n",
    "    print(f\"Marching trough {organ_name}...\",end=\"\")\n",
    "    triangles = march_with_tetrahendras(organ, isovalue, verbose)\n",
    "    export_triangles(triangles, f\"{organ_name}-marching_tetrahendras\") # Save as stl\n",
    "    mesh = pymesh.load_mesh(f\"{organ_name}-marching_tetrahendras.stl\")\n",
    "    pymesh.save_mesh(f\"{organ_name}-marching_tetrahendras.obj\",mesh)\n",
    "    print(f\"\\nDone! saved as: {organ_name}-marching_tetrahendras.obj\\n\")\n",
    "print(\"Finished march!\")"
   ]
  },
  {
   "cell_type": "markdown",
   "id": "35fd164f",
   "metadata": {},
   "source": [
    "### Smoothing"
   ]
  },
  {
   "cell_type": "code",
   "execution_count": null,
   "id": "a21c3e16",
   "metadata": {
    "ExecuteTime": {
     "end_time": "2021-08-27T20:16:38.697422Z",
     "start_time": "2021-08-27T20:16:03.674717Z"
    }
   },
   "outputs": [],
   "source": [
    "smooth_organs = {}\n",
    "for organ_name, organ in organs.items():\n",
    "    print(f\"Smooting trough {organ_name}...\",end=\"\")\n",
    "    smooth_organs[organ_name] = mcubes.smooth(organ)\n",
    "    print(f\"done!\")\n",
    "print(\"Finished Smooting!\")"
   ]
  },
  {
   "cell_type": "code",
   "execution_count": null,
   "id": "d5062fac",
   "metadata": {
    "ExecuteTime": {
     "end_time": "2021-08-27T20:16:58.142929Z",
     "start_time": "2021-08-27T20:16:38.743036Z"
    }
   },
   "outputs": [],
   "source": [
    "\n",
    "for organ_name, organ in smooth_organs.items():\n",
    "    print(f\"Marching trough {organ_name}...\",end=\"\")\n",
    "    vertices, triangles = mcubes.marching_cubes(organ, isovalue)\n",
    "    mesh = pymesh.form_mesh(vertices, triangles)\n",
    "    pymesh.save_mesh(f\"{organ_name}-smooth-marching_cubes.obj\",mesh)\n",
    "    print(f\"done! Saved as: {organ_name}-smooth-marching_cubes.obj\")\n",
    "print(\"Finished march!\")"
   ]
  },
  {
   "cell_type": "code",
   "execution_count": null,
   "id": "a99c31c5",
   "metadata": {
    "ExecuteTime": {
     "end_time": "2021-08-27T21:00:10.590527Z",
     "start_time": "2021-08-27T20:16:58.187846Z"
    }
   },
   "outputs": [],
   "source": [
    "verbose = True\n",
    "\n",
    "for organ_name, organ in smooth_organs.items():\n",
    "    print(f\"Marching trough {organ_name}...\",end=\"\")\n",
    "    triangles = march_with_tetrahendras(organ, isovalue, verbose)\n",
    "    export_triangles(triangles, f\"{organ_name}-smooth-marching_tetrahendras\") # Save as stl\n",
    "    mesh = pymesh.load_mesh(f\"{organ_name}-smooth-marching_tetrahendras.stl\")\n",
    "    pymesh.save_mesh(f\"{organ_name}-smooth-marching_tetrahendras.obj\",mesh)\n",
    "    print(f\"Done! saved as: {organ_name}-smooth-marching_tetrahendras.obj\")\n",
    "print(\"Finished march!\")"
   ]
  },
  {
   "cell_type": "code",
   "execution_count": null,
   "id": "627a8d28",
   "metadata": {
    "ExecuteTime": {
     "end_time": "2021-08-27T21:12:29.326783Z",
     "start_time": "2021-08-27T21:01:48.476869Z"
    }
   },
   "outputs": [],
   "source": [
    "from cleanmesh import cleanup_mesh\n",
    "\n",
    "# mesh = cleanup_mesh(pymesh.load_mesh(\"bones-marching_tetrahendras.obj\"))\n",
    "pymesh.save_mesh(\"bones-marching_tetrahendras.obj\", mesh)"
   ]
  }
 ],
 "metadata": {
  "kernelspec": {
   "display_name": "Python 3 (ipykernel)",
   "language": "python",
   "name": "python3"
  },
  "language_info": {
   "codemirror_mode": {
    "name": "ipython",
    "version": 3
   },
   "file_extension": ".py",
   "mimetype": "text/x-python",
   "name": "python",
   "nbconvert_exporter": "python",
   "pygments_lexer": "ipython3",
   "version": "3.7.10"
  },
  "varInspector": {
   "cols": {
    "lenName": 16,
    "lenType": 16,
    "lenVar": 40
   },
   "kernels_config": {
    "python": {
     "delete_cmd_postfix": "",
     "delete_cmd_prefix": "del ",
     "library": "var_list.py",
     "varRefreshCmd": "print(var_dic_list())"
    },
    "r": {
     "delete_cmd_postfix": ") ",
     "delete_cmd_prefix": "rm(",
     "library": "var_list.r",
     "varRefreshCmd": "cat(var_dic_list()) "
    }
   },
   "types_to_exclude": [
    "module",
    "function",
    "builtin_function_or_method",
    "instance",
    "_Feature"
   ],
   "window_display": false
  }
 },
 "nbformat": 4,
 "nbformat_minor": 5
}
