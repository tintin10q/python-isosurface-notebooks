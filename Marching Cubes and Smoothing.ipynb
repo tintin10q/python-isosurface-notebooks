{
 "cells": [
  {
   "cell_type": "code",
   "execution_count": 12,
   "id": "926b99df",
   "metadata": {
    "ExecuteTime": {
     "end_time": "2021-08-27T14:10:00.550617Z",
     "start_time": "2021-08-27T14:10:00.547497Z"
    },
    "deletable": false,
    "editable": false,
    "run_control": {
     "frozen": true
    },
    "scrolled": true
   },
   "outputs": [],
   "source": [
    "import numpy as np\n",
    "import nibabel\n",
    "from loadnii import segment_labels\n",
    "import pymesh # https://github.com/pmneila/PyMCubes\n",
    "\n"
   ]
  },
  {
   "cell_type": "markdown",
   "id": "0d315964",
   "metadata": {},
   "source": [
    "### Segment Body parts"
   ]
  },
  {
   "cell_type": "code",
   "execution_count": 1,
   "id": "170222a4",
   "metadata": {
    "ExecuteTime": {
     "end_time": "2021-08-27T16:56:03.682717Z",
     "start_time": "2021-08-27T16:56:03.584486Z"
    },
    "scrolled": true
   },
   "outputs": [
    {
     "ename": "NameError",
     "evalue": "name 'segment_labels' is not defined",
     "output_type": "error",
     "traceback": [
      "\u001b[0;31m---------------------------------------------------------------------------\u001b[0m",
      "\u001b[0;31mNameError\u001b[0m                                 Traceback (most recent call last)",
      "\u001b[0;32m/tmp/ipykernel_4507/987652666.py\u001b[0m in \u001b[0;36m<module>\u001b[0;34m\u001b[0m\n\u001b[1;32m      8\u001b[0m \u001b[0mmaxlabel\u001b[0m \u001b[0;34m=\u001b[0m \u001b[0mtarget_label\u001b[0m \u001b[0;34m+\u001b[0m \u001b[0;36m.1\u001b[0m\u001b[0;34m\u001b[0m\u001b[0;34m\u001b[0m\u001b[0m\n\u001b[1;32m      9\u001b[0m \u001b[0;34m\u001b[0m\u001b[0m\n\u001b[0;32m---> 10\u001b[0;31m \u001b[0mnew_image\u001b[0m \u001b[0;34m=\u001b[0m \u001b[0msegment_labels\u001b[0m\u001b[0;34m(\u001b[0m\u001b[0mvolume_file_path\u001b[0m\u001b[0;34m,\u001b[0m \u001b[0mlabel_file_path\u001b[0m\u001b[0;34m,\u001b[0m \u001b[0mminlabel\u001b[0m\u001b[0;34m,\u001b[0m \u001b[0mmaxlabel\u001b[0m\u001b[0;34m)\u001b[0m\u001b[0;34m\u001b[0m\u001b[0;34m\u001b[0m\u001b[0m\n\u001b[0m\u001b[1;32m     11\u001b[0m \u001b[0msegmented_label_data\u001b[0m \u001b[0;34m=\u001b[0m \u001b[0mnew_image\u001b[0m\u001b[0;34m.\u001b[0m\u001b[0mget_fdata\u001b[0m\u001b[0;34m(\u001b[0m\u001b[0;34m)\u001b[0m\u001b[0;34m\u001b[0m\u001b[0;34m\u001b[0m\u001b[0m\n\u001b[1;32m     12\u001b[0m \u001b[0mprint\u001b[0m\u001b[0;34m(\u001b[0m\u001b[0;34mf\"Loaded volume of shape: {segmented_label_data.shape} Seperation value was: {minlabel} - {maxlabel}\"\u001b[0m\u001b[0;34m)\u001b[0m\u001b[0;34m\u001b[0m\u001b[0;34m\u001b[0m\u001b[0m\n",
      "\u001b[0;31mNameError\u001b[0m: name 'segment_labels' is not defined"
     ]
    }
   ],
   "source": [
    "volume_file_path = \"ctscan1/volume-3.nii.gz\"\n",
    "label_file_path = \"ctscan1/labels-3.nii.gz\"\n",
    "\n",
    "labels = {\"liver\":1, \"bladder\":2, \"lungs\":3, \"kidneys\":4,\"bones\":5, \"brain\":6}\n",
    "\n",
    "target_label = labels[\"bones\"]\n",
    "minlabel = target_label - .1\n",
    "maxlabel = target_label + .1\n",
    "\n",
    "new_image = segment_labels(volume_file_path, label_file_path, minlabel, maxlabel)\n",
    "segmented_label_data = new_image.get_fdata()\n",
    "print(f\"Loaded volume of shape: {segmented_label_data.shape} Seperation value was: {minlabel} - {maxlabel}\")\n"
   ]
  },
  {
   "cell_type": "code",
   "execution_count": 19,
   "id": "499b46f4",
   "metadata": {
    "ExecuteTime": {
     "end_time": "2021-08-27T14:13:11.021261Z",
     "start_time": "2021-08-27T14:13:09.929625Z"
    }
   },
   "outputs": [],
   "source": [
    "filename = \"lungs\"\n",
    "nibabel.save(new_image, filename) # saving the file"
   ]
  },
  {
   "cell_type": "markdown",
   "id": "a531b6c9",
   "metadata": {
    "heading_collapsed": true,
    "scrolled": true
   },
   "source": [
    "### Marhcing Cubes \n",
    "My own implentation attempt"
   ]
  },
  {
   "cell_type": "code",
   "execution_count": null,
   "id": "2f624bf5",
   "metadata": {
    "ExecuteTime": {
     "end_time": "2021-08-27T10:33:15.122223Z",
     "start_time": "2021-08-27T10:33:15.120074Z"
    },
    "hidden": true,
    "scrolled": true
   },
   "outputs": [],
   "source": [
    "cube_drawing = '''         y\n",
    "         |        v7_______e6_____________v6\n",
    "         |         /|                    /|\n",
    "         |        / |                   / |\n",
    "         |     e7/  |                e5/  |\n",
    "         |      /___|______e4_________/   |\n",
    "         |   v4|    |                 |v5 |e10\n",
    "         |     |    |                 |   |\n",
    "         |     |    |e11              |e9 |\n",
    "         |   e8|    |                 |   |            z\n",
    "         |     |    |_________________|___|           /\n",
    "         |     |   / v3      e2       |   /v2        /\n",
    "         |     |  /                   |  /          /\n",
    "         |     | /e3                  | /e1        / \n",
    "         |     |/_____________________|/          /\n",
    "         |     v0         e0          v1         / \n",
    "         |                                      /\n",
    "         x-------------------------------------/'''\n"
   ]
  },
  {
   "cell_type": "code",
   "execution_count": 17,
   "id": "7d6437be",
   "metadata": {
    "ExecuteTime": {
     "end_time": "2021-08-27T11:45:06.268468Z",
     "start_time": "2021-08-27T11:45:06.266363Z"
    },
    "hidden": true,
    "scrolled": false
   },
   "outputs": [],
   "source": [
    "\n",
    "\n",
    "\n",
    "# The following data originates from Eric Lengyel's Transvoxel Algorithm.\n",
    "# http://transvoxel.org/"
   ]
  },
  {
   "cell_type": "code",
   "execution_count": null,
   "id": "fa269fee",
   "metadata": {
    "ExecuteTime": {
     "end_time": "2021-08-27T10:33:15.181603Z",
     "start_time": "2021-08-27T10:33:15.173204Z"
    },
    "code_folding": [],
    "hidden": true,
    "scrolled": true
   },
   "outputs": [],
   "source": [
    "\n",
    "class Cube:\n",
    "    cube_drawing = cube_drawing\n",
    "\n",
    "    def __init__(self, index: int, \n",
    "                 v0: float, v1: float, v2: float, v3: float, \n",
    "                 v4: float, v5: float, v6: float, v7: float):\n",
    "        self.v0 = v0\n",
    "        self.v1 = v1\n",
    "        self.v2 = v2\n",
    "        self.v3 = v3\n",
    "        self.v4 = v4\n",
    "        self.v5 = v5\n",
    "        self.v6 = v6\n",
    "        self.v7 = v7\n",
    "        self.cube_index = index\n",
    "    \n",
    "    def __iter__(self) -> tuple:\n",
    "        return (self.v0, self.v1, self.v2, self.v3, self.v4, self.v5, self.v6, self.v7)\n",
    "    \n",
    "    def __contains__(self, item: float) -> bool:\n",
    "        return item in self.__iter__()\n",
    "    \n",
    "    def __index__(self, index: int) -> float:\n",
    "        return self.__iter__()[index]\n",
    "    \n",
    "    def __len__(self):\n",
    "        return 8\n",
    "    \n",
    "    def __repr__(self):\n",
    "        return f\"Cube(index={self.cube_index}, v0={self.v0}, {self.v1}, {self.v2}, {self.v3}, {self.v4}, {self.v5}, {self.v6}, v7={self.v7})\"\n",
    "    \n",
    "    @staticmethod\n",
    "    def print_cube():\n",
    "        \"\"\" Prints a character drawing of a cube and where the corners are \"\"\"\n",
    "        print(Cube.cube_drawing)\n",
    "\n",
    "\n",
    "def march(volume) -> Cube:\n",
    "    shape = volume.shape\n",
    "    \n",
    "    assert len(shape) == 3, f\"The volume has to be 3 dimensions your volume has {len(shape)} dimensions\"\n",
    "    \n",
    "    xlimit = shape[0]-2\n",
    "    ylimit = shape[1]-2\n",
    "    zlimit = shape[2]-2\n",
    "    \n",
    "    cube_index = 0\n",
    "    \n",
    "    for xindex, x in enumerate(volume):\n",
    "        for yindex, y in enumerate(x):\n",
    "            for zindex, z in enumerate(y):\n",
    "                \n",
    "                if zindex > zlimit or yindex > ylimit or xindex > xlimit:\n",
    "                    break # Skip cube if its on the outside of the volume\n",
    "                \n",
    "                v0 = label_data[xindex][yindex][zindex] \n",
    "                v1 = label_data[xindex+1][yindex][zindex]\n",
    "                v2 = label_data[xindex+1][yindex][zindex+1]\n",
    "                v3 = label_data[xindex][yindex][zindex+1]\n",
    "                v4 = label_data[xindex][yindex+1][zindex]\n",
    "                v5 = label_data[xindex+1][yindex+1][zindex]\n",
    "                v6 = label_data[xindex+1][yindex+1][zindex+1]\n",
    "                v7 = label_data[xindex][yindex+1][zindex+1]\n",
    "                \n",
    "                yield Cube(cube_index, v0, v1, v2, v3, v4, v5, v6, v7)\n",
    "                \n",
    "                cube_index += 1\n",
    "\n"
   ]
  },
  {
   "cell_type": "code",
   "execution_count": null,
   "id": "517114c4",
   "metadata": {
    "ExecuteTime": {
     "end_time": "2021-08-27T11:11:41.584434Z",
     "start_time": "2021-08-27T11:11:39.125559Z"
    },
    "hidden": true,
    "scrolled": true
   },
   "outputs": [],
   "source": [
    "print(\"Starting\")\n",
    "for cube in march(label4):\n",
    "    pass\n",
    "    # Check corners \n",
    "    # lookup in triangle table (I could not find this table)\n",
    "print(\"Done\")\n",
    "                "
   ]
  },
  {
   "cell_type": "markdown",
   "id": "1f99692c",
   "metadata": {},
   "source": [
    "### Marching cubes\n",
    "skimage and mcubes implementation."
   ]
  },
  {
   "cell_type": "code",
   "execution_count": 25,
   "id": "2d4c4a02",
   "metadata": {
    "ExecuteTime": {
     "end_time": "2021-08-27T12:37:43.336881Z",
     "start_time": "2021-08-27T12:37:43.334522Z"
    }
   },
   "outputs": [],
   "source": [
    "isovalue = 10\n",
    "filename = \"isovalue10\""
   ]
  },
  {
   "cell_type": "code",
   "execution_count": null,
   "id": "76fef5ae",
   "metadata": {
    "ExecuteTime": {
     "end_time": "2021-08-20T08:33:51.972851Z",
     "start_time": "2021-08-20T08:33:50.899454Z"
    },
    "scrolled": true
   },
   "outputs": [],
   "source": [
    "from skimage import measure\n",
    "vertices, triangles, normals, values = measure.marching_cubes(label_data, isovalue)\n",
    "meshskl = pymesh.form_mesh(vertices, triangles)"
   ]
  },
  {
   "cell_type": "code",
   "execution_count": null,
   "id": "3f2f5ba7",
   "metadata": {
    "ExecuteTime": {
     "end_time": "2021-08-27T10:33:27.450000Z",
     "start_time": "2021-08-27T10:33:27.036862Z"
    },
    "scrolled": true
   },
   "outputs": [],
   "source": [
    "import mcubes\n",
    "vertices, triangles = mcubes.marching_cubes(smooth_label_data, iso)"
   ]
  },
  {
   "cell_type": "code",
   "execution_count": null,
   "id": "698b96df",
   "metadata": {
    "ExecuteTime": {
     "end_time": "2021-08-27T10:39:12.224709Z",
     "start_time": "2021-08-27T10:34:08.039371Z"
    },
    "scrolled": true
   },
   "outputs": [],
   "source": []
  },
  {
   "cell_type": "markdown",
   "id": "fceb0106",
   "metadata": {},
   "source": [
    "### Smoothing"
   ]
  },
  {
   "cell_type": "code",
   "execution_count": null,
   "id": "a3aaab34",
   "metadata": {},
   "outputs": [],
   "source": [
    "print(\"Starting smoothing... this could take multile minutes\")\n",
    "smooth_label_data = mcubes.smooth(label_data)"
   ]
  },
  {
   "cell_type": "code",
   "execution_count": null,
   "id": "db23f1e7",
   "metadata": {
    "scrolled": true
   },
   "outputs": [],
   "source": [
    "vertices, triangles = mcubes.marching_cubes(smooth_label_data, iso)\n",
    "meshsmoothmcubes = pymesh.form_mesh(vertices, triangles)"
   ]
  },
  {
   "cell_type": "code",
   "execution_count": null,
   "id": "0479f9cb",
   "metadata": {},
   "outputs": [],
   "source": [
    "vertices, triangles, normals, values = measure.marching_cubes(label_data, isovalue)\n",
    "meshsklsmooth = pymesh.form_mesh(vertices, triangles)"
   ]
  },
  {
   "cell_type": "code",
   "execution_count": null,
   "id": "3559e0f8",
   "metadata": {},
   "outputs": [],
   "source": [
    "# Saving with pymesh \n",
    "pymesh.save_mesh(f\"{filename}mcubessmooth.obj\", meshsmoothcubes)\n",
    "pymesh.save_mesh(f\"{filename}sklsmooth.obj\", meshsklsmooth)"
   ]
  },
  {
   "cell_type": "code",
   "execution_count": null,
   "id": "fd24d18e",
   "metadata": {
    "scrolled": true
   },
   "outputs": [],
   "source": [
    "# # example ball lamda function\n",
    "# X, Y, Z = np.mgrid[:30, :30, :30]\n",
    "# u = (X-15)**2 + (Y-15)**2 + (Z-15)**2 - 8**2\n",
    "# vertices, triangles = mcubes.marching_cubes(u, 0)\n",
    "# mcubes.export_mesh(vertices, triangles, \"sphere.dae\", \"MySphere\")"
   ]
  }
 ],
 "metadata": {
  "kernelspec": {
   "display_name": "Python 3 (ipykernel)",
   "language": "python",
   "name": "python3"
  },
  "language_info": {
   "codemirror_mode": {
    "name": "ipython",
    "version": 3
   },
   "file_extension": ".py",
   "mimetype": "text/x-python",
   "name": "python",
   "nbconvert_exporter": "python",
   "pygments_lexer": "ipython3",
   "version": "3.7.10"
  },
  "varInspector": {
   "cols": {
    "lenName": 16,
    "lenType": 16,
    "lenVar": 40
   },
   "kernels_config": {
    "python": {
     "delete_cmd_postfix": "",
     "delete_cmd_prefix": "del ",
     "library": "var_list.py",
     "varRefreshCmd": "print(var_dic_list())"
    },
    "r": {
     "delete_cmd_postfix": ") ",
     "delete_cmd_prefix": "rm(",
     "library": "var_list.r",
     "varRefreshCmd": "cat(var_dic_list()) "
    }
   },
   "position": {
    "height": "814px",
    "left": "2088px",
    "right": "20px",
    "top": "138px",
    "width": "350px"
   },
   "types_to_exclude": [
    "module",
    "function",
    "builtin_function_or_method",
    "instance",
    "_Feature"
   ],
   "window_display": false
  }
 },
 "nbformat": 4,
 "nbformat_minor": 5
}
